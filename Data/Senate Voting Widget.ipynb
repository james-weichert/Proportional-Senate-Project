{
 "cells": [
  {
   "cell_type": "markdown",
   "metadata": {},
   "source": [
    "# Senate Voting Test\n",
    "\n",
    "_James Weichert_"
   ]
  },
  {
   "cell_type": "code",
   "execution_count": 312,
   "metadata": {},
   "outputs": [],
   "source": [
    "import pandas as pd\n",
    "import numpy as np\n",
    "import bpr\n",
    "\n",
    "import chart_studio.plotly as pl\n",
    "import plotly.graph_objects as go\n",
    "from ipywidgets import widgets"
   ]
  },
  {
   "cell_type": "code",
   "execution_count": 313,
   "metadata": {},
   "outputs": [],
   "source": [
    "current_senate = pd.read_csv('party_data.csv', index_col=0)\n",
    "new_senate = pd.read_csv('new_senate.csv', index_col=0)"
   ]
  },
  {
   "cell_type": "code",
   "execution_count": 314,
   "metadata": {},
   "outputs": [
    {
     "data": {
      "text/html": [
       "<div>\n",
       "<style scoped>\n",
       "    .dataframe tbody tr th:only-of-type {\n",
       "        vertical-align: middle;\n",
       "    }\n",
       "\n",
       "    .dataframe tbody tr th {\n",
       "        vertical-align: top;\n",
       "    }\n",
       "\n",
       "    .dataframe thead th {\n",
       "        text-align: right;\n",
       "    }\n",
       "</style>\n",
       "<table border=\"1\" class=\"dataframe\">\n",
       "  <thead>\n",
       "    <tr style=\"text-align: right;\">\n",
       "      <th></th>\n",
       "      <th>State</th>\n",
       "      <th>Population (2018)</th>\n",
       "      <th>U.S. House Seats</th>\n",
       "      <th>Senators</th>\n",
       "      <th>PVI</th>\n",
       "      <th>D_share</th>\n",
       "      <th>R_share</th>\n",
       "    </tr>\n",
       "  </thead>\n",
       "  <tbody>\n",
       "    <tr>\n",
       "      <th>0</th>\n",
       "      <td>AL</td>\n",
       "      <td>4887871</td>\n",
       "      <td>7</td>\n",
       "      <td>2</td>\n",
       "      <td>-14</td>\n",
       "      <td>43.0</td>\n",
       "      <td>57.0</td>\n",
       "    </tr>\n",
       "    <tr>\n",
       "      <th>1</th>\n",
       "      <td>AK</td>\n",
       "      <td>737438</td>\n",
       "      <td>1</td>\n",
       "      <td>2</td>\n",
       "      <td>-9</td>\n",
       "      <td>45.5</td>\n",
       "      <td>54.5</td>\n",
       "    </tr>\n",
       "    <tr>\n",
       "      <th>2</th>\n",
       "      <td>AZ</td>\n",
       "      <td>7171646</td>\n",
       "      <td>9</td>\n",
       "      <td>2</td>\n",
       "      <td>-5</td>\n",
       "      <td>47.5</td>\n",
       "      <td>52.5</td>\n",
       "    </tr>\n",
       "    <tr>\n",
       "      <th>3</th>\n",
       "      <td>AR</td>\n",
       "      <td>3013825</td>\n",
       "      <td>4</td>\n",
       "      <td>2</td>\n",
       "      <td>-15</td>\n",
       "      <td>42.5</td>\n",
       "      <td>57.5</td>\n",
       "    </tr>\n",
       "    <tr>\n",
       "      <th>4</th>\n",
       "      <td>CA</td>\n",
       "      <td>39557045</td>\n",
       "      <td>53</td>\n",
       "      <td>2</td>\n",
       "      <td>12</td>\n",
       "      <td>56.0</td>\n",
       "      <td>44.0</td>\n",
       "    </tr>\n",
       "  </tbody>\n",
       "</table>\n",
       "</div>"
      ],
      "text/plain": [
       "  State  Population (2018)  U.S. House Seats  Senators  PVI  D_share  R_share\n",
       "0    AL            4887871                 7         2  -14     43.0     57.0\n",
       "1    AK             737438                 1         2   -9     45.5     54.5\n",
       "2    AZ            7171646                 9         2   -5     47.5     52.5\n",
       "3    AR            3013825                 4         2  -15     42.5     57.5\n",
       "4    CA           39557045                53         2   12     56.0     44.0"
      ]
     },
     "execution_count": 314,
     "metadata": {},
     "output_type": "execute_result"
    }
   ],
   "source": [
    "current_senate.head()"
   ]
  },
  {
   "cell_type": "code",
   "execution_count": 315,
   "metadata": {},
   "outputs": [
    {
     "data": {
      "text/html": [
       "<div>\n",
       "<style scoped>\n",
       "    .dataframe tbody tr th:only-of-type {\n",
       "        vertical-align: middle;\n",
       "    }\n",
       "\n",
       "    .dataframe tbody tr th {\n",
       "        vertical-align: top;\n",
       "    }\n",
       "\n",
       "    .dataframe thead th {\n",
       "        text-align: right;\n",
       "    }\n",
       "</style>\n",
       "<table border=\"1\" class=\"dataframe\">\n",
       "  <thead>\n",
       "    <tr style=\"text-align: right;\">\n",
       "      <th></th>\n",
       "      <th>State</th>\n",
       "      <th>Population (2018)</th>\n",
       "      <th>Senators</th>\n",
       "      <th>PVI</th>\n",
       "      <th>D_share</th>\n",
       "      <th>R_share</th>\n",
       "    </tr>\n",
       "  </thead>\n",
       "  <tbody>\n",
       "    <tr>\n",
       "      <th>0</th>\n",
       "      <td>AL</td>\n",
       "      <td>4887871</td>\n",
       "      <td>1</td>\n",
       "      <td>-14</td>\n",
       "      <td>43.0</td>\n",
       "      <td>57.0</td>\n",
       "    </tr>\n",
       "    <tr>\n",
       "      <th>1</th>\n",
       "      <td>AK</td>\n",
       "      <td>737438</td>\n",
       "      <td>1</td>\n",
       "      <td>-9</td>\n",
       "      <td>45.5</td>\n",
       "      <td>54.5</td>\n",
       "    </tr>\n",
       "    <tr>\n",
       "      <th>2</th>\n",
       "      <td>AZ</td>\n",
       "      <td>7171646</td>\n",
       "      <td>2</td>\n",
       "      <td>-5</td>\n",
       "      <td>47.5</td>\n",
       "      <td>52.5</td>\n",
       "    </tr>\n",
       "    <tr>\n",
       "      <th>3</th>\n",
       "      <td>AR</td>\n",
       "      <td>3013825</td>\n",
       "      <td>1</td>\n",
       "      <td>-15</td>\n",
       "      <td>42.5</td>\n",
       "      <td>57.5</td>\n",
       "    </tr>\n",
       "    <tr>\n",
       "      <th>4</th>\n",
       "      <td>CA</td>\n",
       "      <td>39557045</td>\n",
       "      <td>12</td>\n",
       "      <td>12</td>\n",
       "      <td>56.0</td>\n",
       "      <td>44.0</td>\n",
       "    </tr>\n",
       "  </tbody>\n",
       "</table>\n",
       "</div>"
      ],
      "text/plain": [
       "  State  Population (2018)  Senators  PVI  D_share  R_share\n",
       "0    AL            4887871         1  -14     43.0     57.0\n",
       "1    AK             737438         1   -9     45.5     54.5\n",
       "2    AZ            7171646         2   -5     47.5     52.5\n",
       "3    AR            3013825         1  -15     42.5     57.5\n",
       "4    CA           39557045        12   12     56.0     44.0"
      ]
     },
     "execution_count": 315,
     "metadata": {},
     "output_type": "execute_result"
    }
   ],
   "source": [
    "new_senate.head()"
   ]
  },
  {
   "cell_type": "code",
   "execution_count": 316,
   "metadata": {},
   "outputs": [],
   "source": [
    "data = current_senate"
   ]
  },
  {
   "cell_type": "code",
   "execution_count": 416,
   "metadata": {},
   "outputs": [],
   "source": [
    "def simulate_election(data, turnout=0.56, turnout_variability = 0.05, voting_age_pop=0.77, swing_vote_percent=0.02, swing_factor=0.1, rand=False):\n",
    "    \n",
    "    data['D_sen'] = 0\n",
    "    data['R_sen'] = 0\n",
    "\n",
    "    for state in range(50): \n",
    "        \n",
    "        registered_voters = int(data.loc[state, 'Population (2018)'] * voting_age_pop)\n",
    "        \n",
    "        for seat in range(data.loc[state, 'Senators']):\n",
    "            \n",
    "            if rand:\n",
    "                election_turnout = turnout + (np.random.random() * 2 * turnout_variability) - turnout_variability\n",
    "            else:\n",
    "                election_turnout = turnout\n",
    "\n",
    "            voters = registered_voters * election_turnout\n",
    "            \n",
    "            if rand:\n",
    "                swing_vote_preference = (data.loc[state, 'D_share'] / (data.loc[state, 'D_sen'] + 1) - data.loc[state, 'R_share'] / (data.loc[state, 'R_sen'] + 1)) * swing_factor\n",
    "            \n",
    "            d_vote_share = int((voters * (1 - swing_vote_percent)) * (data.loc[state, 'D_share'] / 100) + swing_vote_preference * swing_vote_percent * voters)\n",
    "            r_vote_share = int(voters - d_vote_share)\n",
    "            \n",
    "            if d_vote_share > r_vote_share:\n",
    "                data.loc[state, 'D_sen'] += 1\n",
    "            elif r_vote_share > d_vote_share:\n",
    "                data.loc[state, 'R_sen'] += 1\n",
    "            else:\n",
    "                r = np.random.rand()\n",
    "                \n",
    "                if r < 0.5:\n",
    "                    data.loc[state, 'D_sen'] += 1\n",
    "                else:\n",
    "                    data.loc[state, 'R_sen'] += 1\n",
    "    \n",
    "    data['Senate_Scale'] = data['R_sen'] / data['Senators']\n",
    "    \n",
    "    return data"
   ]
  },
  {
   "cell_type": "code",
   "execution_count": 417,
   "metadata": {},
   "outputs": [
    {
     "data": {
      "text/html": [
       "<div>\n",
       "<style scoped>\n",
       "    .dataframe tbody tr th:only-of-type {\n",
       "        vertical-align: middle;\n",
       "    }\n",
       "\n",
       "    .dataframe tbody tr th {\n",
       "        vertical-align: top;\n",
       "    }\n",
       "\n",
       "    .dataframe thead th {\n",
       "        text-align: right;\n",
       "    }\n",
       "</style>\n",
       "<table border=\"1\" class=\"dataframe\">\n",
       "  <thead>\n",
       "    <tr style=\"text-align: right;\">\n",
       "      <th></th>\n",
       "      <th>State</th>\n",
       "      <th>Population (2018)</th>\n",
       "      <th>U.S. House Seats</th>\n",
       "      <th>Senators</th>\n",
       "      <th>PVI</th>\n",
       "      <th>D_share</th>\n",
       "      <th>R_share</th>\n",
       "      <th>D_sen</th>\n",
       "      <th>R_sen</th>\n",
       "      <th>Senate_Scale</th>\n",
       "    </tr>\n",
       "  </thead>\n",
       "  <tbody>\n",
       "    <tr>\n",
       "      <th>0</th>\n",
       "      <td>AL</td>\n",
       "      <td>4887871</td>\n",
       "      <td>7</td>\n",
       "      <td>2</td>\n",
       "      <td>-14</td>\n",
       "      <td>43.0</td>\n",
       "      <td>57.0</td>\n",
       "      <td>0</td>\n",
       "      <td>2</td>\n",
       "      <td>1.0</td>\n",
       "    </tr>\n",
       "    <tr>\n",
       "      <th>1</th>\n",
       "      <td>AK</td>\n",
       "      <td>737438</td>\n",
       "      <td>1</td>\n",
       "      <td>2</td>\n",
       "      <td>-9</td>\n",
       "      <td>45.5</td>\n",
       "      <td>54.5</td>\n",
       "      <td>0</td>\n",
       "      <td>2</td>\n",
       "      <td>1.0</td>\n",
       "    </tr>\n",
       "    <tr>\n",
       "      <th>2</th>\n",
       "      <td>AZ</td>\n",
       "      <td>7171646</td>\n",
       "      <td>9</td>\n",
       "      <td>2</td>\n",
       "      <td>-5</td>\n",
       "      <td>47.5</td>\n",
       "      <td>52.5</td>\n",
       "      <td>1</td>\n",
       "      <td>1</td>\n",
       "      <td>0.5</td>\n",
       "    </tr>\n",
       "    <tr>\n",
       "      <th>3</th>\n",
       "      <td>AR</td>\n",
       "      <td>3013825</td>\n",
       "      <td>4</td>\n",
       "      <td>2</td>\n",
       "      <td>-15</td>\n",
       "      <td>42.5</td>\n",
       "      <td>57.5</td>\n",
       "      <td>0</td>\n",
       "      <td>2</td>\n",
       "      <td>1.0</td>\n",
       "    </tr>\n",
       "    <tr>\n",
       "      <th>4</th>\n",
       "      <td>CA</td>\n",
       "      <td>39557045</td>\n",
       "      <td>53</td>\n",
       "      <td>2</td>\n",
       "      <td>12</td>\n",
       "      <td>56.0</td>\n",
       "      <td>44.0</td>\n",
       "      <td>2</td>\n",
       "      <td>0</td>\n",
       "      <td>0.0</td>\n",
       "    </tr>\n",
       "  </tbody>\n",
       "</table>\n",
       "</div>"
      ],
      "text/plain": [
       "  State  Population (2018)  U.S. House Seats  Senators  PVI  D_share  R_share  \\\n",
       "0    AL            4887871                 7         2  -14     43.0     57.0   \n",
       "1    AK             737438                 1         2   -9     45.5     54.5   \n",
       "2    AZ            7171646                 9         2   -5     47.5     52.5   \n",
       "3    AR            3013825                 4         2  -15     42.5     57.5   \n",
       "4    CA           39557045                53         2   12     56.0     44.0   \n",
       "\n",
       "   D_sen  R_sen  Senate_Scale  \n",
       "0      0      2           1.0  \n",
       "1      0      2           1.0  \n",
       "2      1      1           0.5  \n",
       "3      0      2           1.0  \n",
       "4      2      0           0.0  "
      ]
     },
     "execution_count": 417,
     "metadata": {},
     "output_type": "execute_result"
    }
   ],
   "source": [
    "curr_senate_voted = simulate_election(current_senate, rand=True)\n",
    "curr_senate_voted.head()"
   ]
  },
  {
   "cell_type": "code",
   "execution_count": 418,
   "metadata": {},
   "outputs": [],
   "source": [
    "def check_composition(data):\n",
    "    \n",
    "    d_senate_num = np.sum(data['D_sen'])\n",
    "    r_senate_num = np.sum(data['R_sen'])\n",
    "    senate_total = np.sum(data['Senators'])\n",
    "    return r_senate_num, d_senate_num"
   ]
  },
  {
   "cell_type": "code",
   "execution_count": 419,
   "metadata": {},
   "outputs": [],
   "source": [
    "r, d = check_composition(curr_senate_voted)"
   ]
  },
  {
   "cell_type": "code",
   "execution_count": 420,
   "metadata": {},
   "outputs": [],
   "source": [
    "vap = widgets.FloatSlider(\n",
    "    value = 0.77,\n",
    "    min=0.01,\n",
    "    max=1,\n",
    "    step=0.01,\n",
    "    description='Voting Pop:',\n",
    "    continuous_update=False\n",
    ")"
   ]
  },
  {
   "cell_type": "code",
   "execution_count": 421,
   "metadata": {},
   "outputs": [],
   "source": [
    "turnout = widgets.FloatSlider(\n",
    "    value = 0.56,\n",
    "    min=0.0,\n",
    "    max=1.0,\n",
    "    step=0.01,\n",
    "    description='Turnout:',\n",
    "    continuous_update=False\n",
    ")"
   ]
  },
  {
   "cell_type": "code",
   "execution_count": 422,
   "metadata": {},
   "outputs": [],
   "source": [
    "turnout_var = widgets.FloatSlider(\n",
    "    value = 0.05,\n",
    "    min=0.0,\n",
    "    max=1.0 - turnout.value,\n",
    "    step=0.01,\n",
    "    description='Turnout Var:',\n",
    "    continuous_update=False\n",
    ")"
   ]
  },
  {
   "cell_type": "code",
   "execution_count": 423,
   "metadata": {},
   "outputs": [],
   "source": [
    "swing_vote_percentage = widgets.FloatSlider(\n",
    "    value = 0.05,\n",
    "    min=0.0,\n",
    "    max=0.50,\n",
    "    step=0.01,\n",
    "    description='Swing %:',\n",
    "    continuous_update=False\n",
    ")"
   ]
  },
  {
   "cell_type": "code",
   "execution_count": 429,
   "metadata": {},
   "outputs": [],
   "source": [
    "swing_impact = widgets.FloatSlider(\n",
    "    value = 0.1,\n",
    "    min=0.0,\n",
    "    max=0.20,\n",
    "    step=0.01,\n",
    "    description='Swing Impact:',\n",
    "    continuous_update=False\n",
    ")"
   ]
  },
  {
   "cell_type": "code",
   "execution_count": 430,
   "metadata": {},
   "outputs": [],
   "source": [
    "def response(change):\n",
    "    elected_sen = simulate_election(data, turnout=turnout.value, turnout_variability=turnout_var.value, voting_age_pop=vap.value, swing_vote_percent=swing_vote_percentage.value, swing_factor=swing_impact.value, rand=True)\n",
    "    r, d = check_composition(elected_sen)\n",
    "    with g.batch_update():\n",
    "            g.data[0].z = elected_sen['Senate_Scale']\n",
    "            hovertext =  'R: ' + new_senate_elections['R_sen'].map(str) + ' D: ' + new_senate_elections['D_sen'].map(str)\n",
    "            hoverinfo = 'location + text'\n",
    "    g.update_layout(\n",
    "        title_text = 'U.S. Senate (R: ' + str(r) + ' D: ' + str(d) + ')',\n",
    "    )"
   ]
  },
  {
   "cell_type": "code",
   "execution_count": 431,
   "metadata": {},
   "outputs": [],
   "source": [
    "vap.observe(response, names=\"value\")\n",
    "turnout.observe(response, names=\"value\")\n",
    "turnout_var.observe(response, names=\"value\")\n",
    "swing_vote_percentage.observe(response, names=\"value\")\n",
    "swing_impact.observe(response, names=\"value\")"
   ]
  },
  {
   "cell_type": "code",
   "execution_count": 442,
   "metadata": {
    "scrolled": false
   },
   "outputs": [
    {
     "data": {
      "application/vnd.jupyter.widget-view+json": {
       "model_id": "e19a8e90eae9475b985d969ba83bfad4",
       "version_major": 2,
       "version_minor": 0
      },
      "text/plain": [
       "FigureWidget({\n",
       "    'data': [{'colorscale': [[0.0, '#444CA0'], [0.5, '#F2DDA9'], [1.0, '#A04555']],\n",
       "           …"
      ]
     },
     "metadata": {},
     "output_type": "display_data"
    }
   ],
   "source": [
    "g = go.FigureWidget(\n",
    "    data = go.Choropleth(\n",
    "        locations = current_senate['State'],\n",
    "        z = current_senate['Senate_Scale'].astype(float),\n",
    "        hovertext =  'R: ' + current_senate['R_sen'].map(str) + ' D: ' + current_senate['D_sen'].map(str),\n",
    "        hoverinfo = 'location + text',\n",
    "        locationmode = 'USA-states',\n",
    "        colorscale = bpr.safe_tossup,\n",
    "        showscale = False\n",
    "    )\n",
    ")\n",
    "\n",
    "g.update_layout(\n",
    "    title_text = 'U.S. Senate (R: ' + str(r) + ' D: ' + str(d) + ')',\n",
    "    geo_scope = 'usa',\n",
    "    dragmode = False,\n",
    ")"
   ]
  },
  {
   "cell_type": "code",
   "execution_count": 443,
   "metadata": {},
   "outputs": [
    {
     "data": {
      "application/vnd.jupyter.widget-view+json": {
       "model_id": "dcf4c7e5303f4f2b874a59be6ab06b69",
       "version_major": 2,
       "version_minor": 0
      },
      "text/plain": [
       "VBox(children=(VBox(children=(FloatSlider(value=1.0, continuous_update=False, description='Voting Pop:', max=1…"
      ]
     },
     "metadata": {},
     "output_type": "display_data"
    }
   ],
   "source": [
    "widgets.VBox([widgets.VBox([vap, turnout, turnout_var, swing_vote_percentage, swing_impact])])"
   ]
  },
  {
   "cell_type": "markdown",
   "metadata": {},
   "source": [
    "<hr />"
   ]
  },
  {
   "cell_type": "code",
   "execution_count": 444,
   "metadata": {},
   "outputs": [],
   "source": [
    "pl.sign_in(username='jamesweichert', api_key='PUK0jPsKi3P0P9SVW2x1')"
   ]
  },
  {
   "cell_type": "code",
   "execution_count": 445,
   "metadata": {},
   "outputs": [],
   "source": [
    "new_senate_elections = simulate_election(new_senate, rand=True)\n",
    "nr, nd = check_composition(new_senate_elections)"
   ]
  },
  {
   "cell_type": "code",
   "execution_count": 446,
   "metadata": {},
   "outputs": [
    {
     "data": {
      "application/vnd.jupyter.widget-view+json": {
       "model_id": "fa1674a1f0ae44ae84970da4a9e21de2",
       "version_major": 2,
       "version_minor": 0
      },
      "text/plain": [
       "FigureWidget({\n",
       "    'data': [{'colorscale': [[0.0, '#444CA0'], [0.16666666666666666, '#487EBF'],\n",
       "              …"
      ]
     },
     "metadata": {},
     "output_type": "display_data"
    }
   ],
   "source": [
    "h = go.FigureWidget(\n",
    "    data = go.Choropleth(\n",
    "        locations = new_senate_elections['State'],\n",
    "        z = new_senate_elections['Senate_Scale'].astype(float),\n",
    "        hovertext =  'R: ' + new_senate_elections['R_sen'].map(str) + ' D: ' + new_senate_elections['D_sen'].map(str),\n",
    "        hoverinfo = 'location + text',\n",
    "        locationmode = 'USA-states',\n",
    "        colorscale = bpr.safe_likely_leans_tossup,\n",
    "        showscale = False\n",
    "    )\n",
    ")\n",
    "\n",
    "h.update_layout(\n",
    "    title_text = 'U.S. Senate (R: ' + str(nr) + ' D: ' + str(nd) + ')',\n",
    "    geo_scope = 'usa',\n",
    "    dragmode = False\n",
    ")"
   ]
  },
  {
   "cell_type": "code",
   "execution_count": 447,
   "metadata": {},
   "outputs": [
    {
     "data": {
      "text/html": [
       "\n",
       "        <iframe\n",
       "            width=\"100%\"\n",
       "            height=\"525px\"\n",
       "            src=\"https://plot.ly/~jamesweichert/34.embed\"\n",
       "            frameborder=\"0\"\n",
       "            allowfullscreen\n",
       "        ></iframe>\n",
       "        "
      ],
      "text/plain": [
       "<IPython.lib.display.IFrame at 0x12beb7c50>"
      ]
     },
     "execution_count": 447,
     "metadata": {},
     "output_type": "execute_result"
    }
   ],
   "source": [
    "pl.iplot(h, filename='NewSenatePartisan')"
   ]
  },
  {
   "cell_type": "code",
   "execution_count": null,
   "metadata": {},
   "outputs": [],
   "source": []
  }
 ],
 "metadata": {
  "kernelspec": {
   "display_name": "Python 3",
   "language": "python",
   "name": "python3"
  },
  "language_info": {
   "codemirror_mode": {
    "name": "ipython",
    "version": 3
   },
   "file_extension": ".py",
   "mimetype": "text/x-python",
   "name": "python",
   "nbconvert_exporter": "python",
   "pygments_lexer": "ipython3",
   "version": "3.6.4"
  }
 },
 "nbformat": 4,
 "nbformat_minor": 2
}
